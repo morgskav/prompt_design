{
  "nbformat": 4,
  "nbformat_minor": 0,
  "metadata": {
    "colab": {
      "provenance": [],
      "authorship_tag": "ABX9TyNA84hCzeB/bPN1J512bQzz",
      "include_colab_link": true
    },
    "kernelspec": {
      "name": "python3",
      "display_name": "Python 3"
    },
    "language_info": {
      "name": "python"
    }
  },
  "cells": [
    {
      "cell_type": "markdown",
      "metadata": {
        "id": "view-in-github",
        "colab_type": "text"
      },
      "source": [
        "<a href=\"https://colab.research.google.com/github/morgskav/prompt_design/blob/main/Prompt_Engineering_guide_and_activities.ipynb\" target=\"_parent\"><img src=\"https://colab.research.google.com/assets/colab-badge.svg\" alt=\"Open In Colab\"/></a>"
      ]
    },
    {
      "cell_type": "markdown",
      "source": [
        "# Prompt engineering techniques and activities\n",
        "\n",
        "*Save a copy of this colab in drive to keep your edits*"
      ],
      "metadata": {
        "id": "lyFmcV9bUBc7"
      }
    },
    {
      "cell_type": "markdown",
      "source": [
        "##  1. Choose where you will use your *model* ##"
      ],
      "metadata": {
        "id": "N0yF4hkjUIhY"
      }
    },
    {
      "cell_type": "markdown",
      "source": [
        "**`browser`**\n",
        "\tFree or paid versions available."
      ],
      "metadata": {
        "id": "jpPm0kBHUKCw"
      }
    },
    {
      "cell_type": "markdown",
      "source": [
        "**`API`** [Hugging Face](https://huggingface.co/), [platform.openai](https://platform.openai.com/playground/chat?models=gpt-4o), [Google Cloud](https://cloud.google.com/?_gl=1*6vx8np*_up*MQ..&gclid=CjwKCAiA2JG9BhAuEiwAH_zf3k7MgnQcFJeK2PwmeVQ1Uwb_SoKmVUzhpLWwpeRxfsw6pnUurN9X7BoCJLwQAvD_BwE&gclsrc=aw.ds&hl=en)\n",
        "\n",
        "*for the following  activities, the open.ai playground might be particularly interesting to use in order to assess your prompts and compare with other models*"
      ],
      "metadata": {
        "id": "9MlAhqscUQ4s"
      }
    },
    {
      "cell_type": "markdown",
      "source": [
        "###Activity 1:\n",
        "- Where have you run models so far?\n",
        "- Do you choose different places for different tasks?\n",
        "- What has your experience been?\n",
        "- Describe a task you would like a model to do and where you should perform the calls."
      ],
      "metadata": {
        "id": "q0Lr-z_mYwFD"
      }
    },
    {
      "cell_type": "markdown",
      "source": [
        "## 2. Cohoose model and set parameters"
      ],
      "metadata": {
        "id": "YZCOR4YkVF3w"
      }
    },
    {
      "cell_type": "markdown",
      "source": [
        "**`model`**\n",
        "\tChoose which model best suits your task and setting."
      ],
      "metadata": {
        "id": "NVpm_0LrVNwm"
      }
    },
    {
      "cell_type": "markdown",
      "source": [
        "**`temperature`**\n",
        "\tA high temperature causes more random selection of the next word. The output seems more creative. For a high level of truthfulness, temperature of 0 is best."
      ],
      "metadata": {
        "id": "s60jDMrTVPwF"
      }
    },
    {
      "cell_type": "markdown",
      "source": [
        "**`sampling`**\n",
        "\tTop-p or Top-k, or any other settings"
      ],
      "metadata": {
        "id": "C3FKgeAAVW8F"
      }
    },
    {
      "cell_type": "markdown",
      "source": [
        "###Activity 2:\n",
        "- What models have you used so far?\n",
        "- Have you ever set the parameters of a model?\n",
        "- Describe a task that you often ask a model to do and describe which model you would choose and how you would set the parameters."
      ],
      "metadata": {
        "id": "mfooYOAKZZRx"
      }
    },
    {
      "cell_type": "markdown",
      "source": [
        "## 3. Interaction with the model"
      ],
      "metadata": {
        "id": "Di2xtgmwV5B-"
      }
    },
    {
      "cell_type": "markdown",
      "source": [
        "**`non-iterative`**\n",
        "\tA single prompt is given to the model and the output used."
      ],
      "metadata": {
        "id": "fgTHYe3FV9nL"
      }
    },
    {
      "cell_type": "markdown",
      "source": [
        "**`iterative`**\n",
        "\tThe user and the model interact back and forth, refining the output through multiple iterations."
      ],
      "metadata": {
        "id": "r3Biq1PJWAgI"
      }
    },
    {
      "cell_type": "markdown",
      "source": [
        "### 3.1 `iterative prompting` techniques"
      ],
      "metadata": {
        "id": "hLo33_qpWINm"
      }
    },
    {
      "cell_type": "markdown",
      "source": [
        "**`step-by-step iterative`** *In-session adjustment*\n",
        "1. Write a prompt\n",
        "2. Assess output\n",
        "3. Write a prompt to fix a specific problem\n",
        "4. Assess output\n",
        "5. Prompt to fix another specific problem... \\\n",
        "*end when perfection reached*  \n",
        "\n",
        "Prompt 1:\n",
        "\n",
        "```\n",
        "user:\n",
        "Translate this text from English to German: 'Many thanks and kind regards'.\n",
        "```\n",
        "\n",
        ">Output 1: Vielen Dank und freundliche Grüße.\n",
        "\n",
        "Prompt 2:\n",
        "```\n",
        "user:\n",
        "Write that text again using 'ss' instead of 'ß'.\n",
        "```\n",
        ">Output 2: Vielen Dank und freundliche Grüsse.\n",
        "\n",
        "Use case:\n",
        "- You want to assess and adjust the output of each step before moving to the next\n",
        "- You are experimenting with new prompts\n",
        "- You are not interested in replicating this\n",
        "\n",
        "**`revised iterative`** *Prompt refinement in a fresh chat*\n",
        "1. Write a prompt\n",
        "2. Assess output\n",
        "3. Modify the original prompt\n",
        "4. Re-prompt in a fresh chat... \\\n",
        "*end when perfection reached*  \n",
        "\n",
        "Prompt 1:\n",
        "```\n",
        "user:\n",
        "Translate this text from English to German: 'Many thanks and kind regards'.\n",
        "```\n",
        " >Output 1: Vielen Dank und freundliche Grüße.\n",
        "\n",
        " Prompt 2 (in a fresh chat):\n",
        "```\n",
        "user:\n",
        "Translate this text from English to German. If the German word contains ß, write ss: 'Many thanks and kind regards.'\n",
        "```\n",
        ">Output 2: Vielen Dank und freundliche Grüsse.\n",
        "\n",
        "Use case:\n",
        "- You are developing a prompt that you want to use as a one-shot prompt\n",
        "- The new window ensures that your new prompt works on its own without all of the previous information in the chat\n"
      ],
      "metadata": {
        "id": "BpAydP_EWP7L"
      }
    },
    {
      "cell_type": "markdown",
      "source": [
        "###Activity 3:\n",
        "- Do you generally use iterative or non-iterative prompting?\n",
        "- Have you tried all of the different ways of interacting with the model listed in 3.?\n",
        "- Have you worked with multi-shot prompting?\n",
        "- Did you encounter any difficulties?\n",
        "- Try it out! Set parameters and compare results (e.g. prompt a model to produce a text with high temperature and low temperature and compare.)"
      ],
      "metadata": {
        "id": "v8GzWB_LaGjN"
      }
    },
    {
      "cell_type": "markdown",
      "source": [
        "## 4. In-context finet-Tuning"
      ],
      "metadata": {
        "id": "V5P68L7NWLle"
      }
    },
    {
      "cell_type": "markdown",
      "source": [
        "**`zero-shot`** *Instructions with no examples*\n",
        "\n",
        "```\n",
        "user:\n",
        "Extract keywords from the below text.\n",
        "Text: {text}\n",
        "Output: Keywords:\n",
        "```\n",
        "\n",
        "<p style=\"page-break-before: always;\"></p>\n",
        "\n",
        "**`multi-shot`** *Instructions with one or more examples*\n",
        "\n",
        "```\n",
        "user:\n",
        "Extract keywords from the corresponding texts below.  \n",
        "##   \n",
        "Text 1: Stripe provides APIs that web developers can use to integrate payment processing into their websites and mobile applications.  \n",
        "Keywords 1: Stripe, payment processing, APIs, web developers, websites, mobile applications  \n",
        "##  \n",
        "Text 2: OpenAI has trained cutting-edge language models that are very good at understanding and generating text. Our API provides access to these models and can be used to solve virtually any task that involves processing language.  \n",
        "Keywords 2: OpenAI, language models, text processing, API.  \n",
        "##  \n",
        "Text 3: {text}  \n",
        "Keywords 3:\n",
        "\n",
        "```\n",
        "### 4.1 **`multi-shot`** techniques\n",
        "\n",
        "**`general consistency`** Give the model instructions and an example or examples. Ask the model to produce output which is similar to the example.\n",
        "\n",
        "```\n",
        "user:\n",
        "Here is a summary of '''{Text1}''': 'The cat sat on the mat.' Now, summarize this text '''{Text2}''' in a similar way:  \n",
        "```\n",
        "\n",
        "Use case: You need general consistency with existing texts.\n",
        "\n",
        "**`feature-focussed consistency`**\n",
        "1. Give the model an example text and a list of features\n",
        "2. Ask your model to extract examples of the given features from the example text\n",
        "3. Ask the model to produce a new text making sure that it includes the given features\n",
        "\n",
        "```\n",
        "user:\n",
        "1: Consider this text '''{TextL1}'''? and these features '''informal lexis, word play, rhyme, metaphor'''\n",
        "2: Make a list of the examples of the features in '''TextL1'''\n",
        "3: Translate '''{TextL1}''' from {L1} to {L2}. Ensure that the features you identified in '''{TextL1}''' are appropriately represented in the output given the differences in culture between {L1} and {L2}\n",
        "```\n",
        "\n",
        "<p style=\"page-break-before: always;\"></p>\n",
        "\n",
        "Use case:\n",
        "- You need consistency with existing texts\n",
        "- Effective for tasks requiring preservation of nuanced language elements across cultures\n",
        "\n",
        "**`augmented feature integrateion`**\n",
        "1. Ask the model to find, reproduce and augment certain information from a text\n",
        "2. Ask the model to include the augmented information into the output\n",
        "\n",
        "```\n",
        "user:\n",
        "1: 'List all of the place names in '''{TextL1}''' and give further information on these places'\n",
        "2: Translate '''{TextL1}''' from {L1} to {L2}. Include the relevant additional information about the place names listed above.\n",
        "```\n",
        "\n",
        "Use case: Target language audience requires more additional information than the source text audience.\n",
        "\n",
        "**`data integration`**\n",
        "Give the model data which it should base its output on (e.g. terminology list, verified information, fact sheet).\n",
        "```\n",
        "user:\n",
        "The uploaded document '''{terminology list}''' is a terminology list with acceptable translations of technical terms from {L1} to {L2}. Translate '''{TextL1}''' from {L1} to {L2}. For any L1 terms that appear in the '''terminology list''' only use the corresponding L2 term.\n",
        "```\n",
        "\n",
        "Use case: Output requiring more reliable data or data relating to a specific situation needed."
      ],
      "metadata": {
        "id": "UyJWi-AAWTCb"
      }
    },
    {
      "cell_type": "markdown",
      "source": [
        "###Activity 4.a:\n",
        "In 4.1, the different multi-shot techniques are are described. \\\n",
        "\n",
        "`multi-shot` techniques:\n",
        "```\n",
        "a. general consistency =\n",
        "\n",
        "b. feature-focussed consistency =\n",
        "\n",
        "c. augmented feature integration =\n",
        "\n",
        "d. data integration =\n",
        "\n",
        "```\n",
        "\n",
        "\n",
        "\n"
      ],
      "metadata": {
        "id": "gpF6muRgaolQ"
      }
    },
    {
      "cell_type": "markdown",
      "source": [
        "Without scrolling up, can you match the below prompts?"
      ],
      "metadata": {
        "id": "nDZuzr5Nex1k"
      }
    },
    {
      "cell_type": "markdown",
      "source": [
        "1. ```\n",
        "user:\n",
        "The uploaded document '''{terminology list}''' is a terminology list with acceptable translations of technical terms from {L1} to {L2}.\n",
        "Translate '''{TextL1}''' from {L1} to {L2}. For any L1 terms that appear in the '''terminology list''' only use the corresponding L2 term.\n",
        "\n",
        "\n",
        "\n",
        "\n",
        "\n",
        "\n",
        "\n",
        "\n"
      ],
      "metadata": {
        "id": "BEtMHbKofAdM"
      }
    },
    {
      "cell_type": "markdown",
      "source": [
        "2. ```\n",
        "user:\n",
        "1: 'List all of the place names in '''{TextL1}''' and give further information on these places'\n",
        "2: Translate '''{TextL1}''' from {L1} to {L2}. Include the relevant additional information about the place names listed above.\n",
        "```"
      ],
      "metadata": {
        "id": "f-Q0Kp3IfLfi"
      }
    },
    {
      "cell_type": "markdown",
      "source": [
        "3. ```\n",
        "user:\n",
        "1: Consider this text '''{TextL1}'''? and these features '''informal lexis, word play, rhyme, metaphor'''\n",
        "2: Make a list of the examples of the features in '''TextL1'''\n",
        "3: Translate '''{TextL1}''' from {L1} to {L2}. Ensure that the features you identified in '''{TextL1}''' are appropriately represented in the output given the differences in culture between {L1} and {L2}\n",
        "```"
      ],
      "metadata": {
        "id": "v67KYbj8fPHx"
      }
    },
    {
      "cell_type": "markdown",
      "source": [
        "4. ```\n",
        "user:\n",
        "Here is a summary of '''{Text1}''': 'The cat sat on the mat.' Now, summarize this text '''{Text2}''' in a similar way:  \n",
        "```"
      ],
      "metadata": {
        "id": "5iF-ipERfUNF"
      }
    },
    {
      "cell_type": "markdown",
      "source": [
        "###Activity 4.b:\n",
        "Below are some example prompts.\n",
        "a. Consider which `multi-shot` technique was used in each example. \\\n",
        "\n",
        "After you have read section 5: \\\n",
        "b. Consider which strategy of **`structuring tasks`** is being used in each example?"
      ],
      "metadata": {
        "id": "OXwuoTpseRq2"
      }
    },
    {
      "cell_type": "markdown",
      "source": [
        "Prompt A: Translating a Technical Document with a Terminology List\n",
        "\n",
        "```\n",
        "user:\n",
        "The uploaded document 'Terminology_List.xlsx' is a list of approved translations for specific technical terms from English (L1) to Spanish (L2). Translate the following English technical document into Spanish, ensuring that all technical terms are translated according to the 'Terminology_List.xlsx'. If any term does not appear in the list, translate it to the best of your ability, and highlight the translation so it can be reviewed.\n",
        "\n",
        "Text: 'The sensor detects the presence of particles in the air and triggers the alarm system when levels exceed the pre-set threshold.'\n",
        "```\n",
        "<details>\n",
        "  <summary>Click to reveal</summary>\n",
        "\n",
        "  a: data integration\n",
        "  b: sequential\n",
        "</details>\n",
        "\n",
        "\n",
        "\n",
        "Prompt B: Cultural Adaptation of Marketing Material\n",
        "\n",
        "```\n",
        "user:\n",
        "1: Consider this English marketing text 'Our product is the most reliable and cost-effective solution in the market, tailored for small businesses.' and these features: 'positive tone, emphasis on reliability and cost-effectiveness'.\n",
        "2: Translate the text into French, ensuring the same features are reflected in the translation.\n",
        "3. Considering cultural nuances in the perception of 'reliability' and 'cost-effectiveness between English and French\n",
        "4. Adapt the message to better resonate with French-speaking small business owners.\n",
        "```\n",
        "<details>\n",
        "  <summary>Click to reveal</summary>\n",
        "\n",
        "  a. feature-focussed consistency \\\n",
        "  b. CoT\n",
        "</details>\n",
        "\n",
        "\n",
        "<p style=\"page-break-before: always;\"></p>\n",
        "\n",
        "Prompt C: MÜ Ergebnisse evaluieren\n",
        "\n",
        "```\n",
        "Kannst Du mir helfen, verschiedene maschinelle Übersetzungsergebnisse miteinander und mit ein Gold-Standard zu vergleichen? Der Ausgangstext wird als #ST markiert, die erste Übersetzung als #TT1 und die zweite als #TT2 und der Gold-Standard als #TGold. Die Übersetzungen sind vom Englischen ins Deutsche und der Artikel soll in einem Reisemagazin veröffentlicht werden.Kannst du zuerst #TT1 von Englisch ins Deutsch übersetzen. Dann die beiden Übersetzungen #TT1, #TT2, Deine Übersetzung und den Gold-Standard satzweise bewerten? Benutze dafür eine Skala von 0 - 5 wobei 5 für die beste Übersetzungsqualität stehen soll und 0 für die schlechteste. Das Ergebnis hätte ich gerne als Tabelle.\n",
        "{#ST}, {#TT1}, {#TT2}, {#TGold}\n",
        "```\n",
        "\n",
        "<details>\n",
        "  <summary>Click to reveal</summary>\n",
        "\n",
        "  a: data integration \\\n",
        "  b: sequential\n",
        "</details>\n",
        "\n",
        "Prompt D: Write a limerick\n",
        "\n",
        "```\n",
        "Prompt 1:  Teach me how to write a limerick.\n",
        "```\n",
        "```\n",
        "Prompt 2: (if no example) Give me an example.\n",
        "```\n",
        "\n",
        "```\n",
        "Prompt 3: Use the information about how to write a limerick above, and the example as a model, and write me a limerick about a dog and a frog.\n",
        "```\n",
        "\n",
        "<details>\n",
        "  <summary>Click to reveal</summary>\n",
        "\n",
        "a: general consistency, feature focussed \\\n",
        "b: let the model guide you (a bit), CoT, sequential\n",
        "</details>\n",
        "\n",
        "<p style=\"page-break-before: always;\"></p>\n",
        "\n",
        "Prompt E: Translate and explain\n",
        "\n",
        "```\n",
        "Task: Translate the attached document titled \"2024.08.28_BVK_Rahmenvertrag_Hypothek.pdf\" from German to English. This document originates from a Swiss credit provider, and its legal context is grounded in Swiss law.\n",
        "\n",
        "Instructions:\n",
        "\n",
        "Translation Process:\n",
        "\n",
        "Section-by-Section Translation: Translate the document in a structured manner, ensuring each section is translated separately. Clearly label each section with its original German heading.\n",
        "Maintain Structure: Preserve the original order and structure of the document to reflect the source material accurately.\n",
        "Output Format:\n",
        "\n",
        "Section Headings: Begin each section with the exact heading as it appears in the document (e.g., \"1. Kredit\").\n",
        "Accurate Translation: Provide a precise and faithful translation of each section into English, reflecting the formal and legal tone of the original text.\n",
        "Simplified Explanation: After translating each section, include a brief, simplified explanation in plain English. This should capture the essence of the section, making it accessible to individuals without a legal or financial background.\n",
        "Technical Terms: Identify any technical or legal terms within each section. For each term, provide:\n",
        "German Term - English Translation: A direct translation of the term.\n",
        "Explanation: A brief, context-specific explanation to clarify its meaning within the document.\n",
        "Final Document Compilation:\n",
        "\n",
        "Word Document (.docx) Format: Compile the full translation, along with the simplified explanations and technical term explanations, into a single Word document.\n",
        "Organization and Formatting: Ensure the document is well-organized with clear headings and sections for easy reference. The final document should be fully translated, with all sections from 1 to 22 completed, formatted as instructed.\n",
        "Completion: Translate the entire document without omission, covering all sections from 1 to 22.\n",
        "```\n",
        "<details>\n",
        "  <summary>Click to reveal</summary>\n",
        "\n",
        "Everything?\n",
        "</details>"
      ],
      "metadata": {
        "id": "jUP1MBBlgGvt"
      }
    },
    {
      "cell_type": "markdown",
      "source": [
        "### 4.2 API tuning\n",
        "*This is most probably beyond the scope of this course*"
      ],
      "metadata": {
        "id": "Qe1nSLKZWh5R"
      }
    },
    {
      "cell_type": "markdown",
      "source": [
        "**`fine-tuning`** *API only* [fine-tuning](https://platform.openai.com/docs/guides/fine-tuning)\n",
        "\n",
        "1. Fine-tuning lets you get more out of the models available through the API by providing: Higher quality results than prompting\n",
        "2. Ability to train on more examples than can fit in a prompt\n",
        "3. Token savings due to shorter prompts\n",
        "\n",
        "**`embeddings based`**\n",
        "API only [embeddings](https://platform.openai.com/docs/guides/embeddings#expander-6)\n",
        "\n",
        "<p style=\"page-break-before: always;\"></p>"
      ],
      "metadata": {
        "id": "rLeKVU_AWydZ"
      }
    },
    {
      "cell_type": "markdown",
      "source": [
        "## 5. Structuring tasks"
      ],
      "metadata": {
        "id": "tC3pLabXW4Wt"
      }
    },
    {
      "cell_type": "markdown",
      "source": [
        "**`sequential task`** Break the problem down into a series of tasks and do one at a time, each building on the next.\n",
        "```\n",
        "user:\n",
        "1: Improve this text '''{text_L1}''' in {L1} according to these criteria '''{criteria*}'''. Call it 'improved textL1'.\n",
        "2. Translate your 'improved text' from {L1} to {L2}. Call it 'text_L2'\n",
        "3. Improve '''textL2''' according to these criteria '''{criteria*}'''. call it 'improved textL2'\n",
        "\n",
        "```\n",
        "\\**e.g. natural flowing language, idioms appropriate to the region*.\n",
        "\n",
        "Use case:\n",
        "- The source text is of poor quality\n",
        "- The source and target languages and/or the cultures are very different\n",
        "\n",
        "**`chain of thought (CoT)`** CoT prompting involves guiding a model to process smaller, more manageable problems which lead it to arrive at a final answer.\n",
        "\n",
        "```\n",
        "user:\n",
        "Translate the following paragraph from English to German. Start by identifying and translating any idiomatic expressions, then address technical terms, and finally ensure that the overall translation maintains a natural flow in German.\n",
        "```\n",
        "\n",
        "Use case:  With complex documents that include difficulties such as idiomatic expressions, technical terminology.\n",
        "\n",
        "**`let the model guide you`** Ask the model to elicit precise details and requirements from you by asking you questions until it has enough information to provide the needed output.\n",
        "\n",
        "```\n",
        "user:\n",
        "I have been asked to translate this text from {L1} to {L2}, ask me for any information that will help you to make a better translation. When you have enough information, produce the translation.\n",
        " ```\n",
        "\n",
        "Use case: You are unfamiliar with the expectations of the output or factors that need to be considered to produce good output\n",
        "\n",
        "<p style=\"page-break-before: always;\"></p>"
      ],
      "metadata": {
        "id": "mXsT-uKqW7b7"
      }
    },
    {
      "cell_type": "markdown",
      "source": [
        "###Activity 5:\n",
        "a. Look at the activity relating to the example prompts above.\n",
        "\n",
        "b. **Try it out!** Think of a problem from your work that is complex. Choose a `structuring technique` and write a prompt to achieve this task. \\\n",
        "c. Show your prompt to your group. Report on the success of your prompt. They need to identify which structuring technique was used."
      ],
      "metadata": {
        "id": "TaNmacQJihMj"
      }
    },
    {
      "cell_type": "markdown",
      "source": [
        "## 6. Prompt tactics *(how you phrase your prompts)*"
      ],
      "metadata": {
        "id": "zMoLwUHrXBqu"
      }
    },
    {
      "cell_type": "markdown",
      "source": [
        "**6.1 Maximise desired associations and minimize unwanted associations in the context window**\n",
        "- Start a new chat for a new task\n",
        "- Keep related tasks in the same chat if the output has been good\n",
        "- Avoid using words that represent what you don't want. Focus on what you do want\n",
        "- Repeat a key word or phrase multiple times within a prompt and/or rephrase the instruction\n",
        "\n",
        "```\n",
        "worse_user:\n",
        "Don't add any new ideas  \n",
        "```\n",
        "```\n",
        "better_user:\n",
        "Keep all the content exactly as in the original. The facts should be the same as ```text1```\n",
        "```"
      ],
      "metadata": {
        "id": "ZuqqtG9vXIQI"
      }
    },
    {
      "cell_type": "markdown",
      "source": [
        "**6.2 Steer the processing of the model**\n",
        "- Refresh the instructions periodically, as the model might revert to its pre-programmed prompt.\n",
        "- Use output primers by concluding your prompt with the beginning of the desired output.\n",
        "```\n",
        "user:\n",
        "Keep following these instructions {original prompt}\n",
        "```\n",
        "\n",
        "```\n",
        "user:\n",
        "Translate this safety warning {text} from English to Spanish.\n",
        "\n",
        "Begin with: 'Advertencia: No operar la máquina sin...'\n",
        "\n",
        "Translate the whole document without stopping.\n",
        "```"
      ],
      "metadata": {
        "id": "eeV0mBq2XNO4"
      }
    },
    {
      "cell_type": "markdown",
      "source": [
        "**6.3 Use formatting, labelling, and delimiting to inform the model what different parts of the prompt are**\n",
        "- Mark headings with ‘###Instruction###’, followed by either ‘###Example###’ or ‘###Question###’.\n",
        "- Divide sections with '####' or ----.\n",
        "- If uploading documents, refer to them by name, e.g., '''Document.docx'''.\n",
        "\n",
        "```\n",
        "user:\n",
        "Summarize the text delimited by triple quotes.  \n",
        "\"\"\"{Text}\"\"\"\n",
        "```\n",
        "\n",
        "<p style=\"page-break-before: always;\"></p>\n",
        "\n",
        "```\n",
        "user:\n",
        "Below you are provided with two articles (delimited with XML tags) about the same topic. First, summarize the arguments of each article. Then compare them.  \n",
        "<article>{first article}\\</article>  \n",
        "<article>{second article}\\</article>\n",
        "```\n",
        "*For simple tasks, this may not make any difference to the output. For longer, more complex tasks, it is recommended."
      ],
      "metadata": {
        "id": "TgqjS8c_XSEI"
      }
    },
    {
      "cell_type": "markdown",
      "source": [
        "**6.4 Write clear and comprehensive prompts**\n",
        "- Write clear, specific, descriptive, detailed, and comprehensive prompts.\n",
        "- Consider length, format, specific details, specific use, context, style, etc.\n",
        "\n",
        "```\n",
        "worse_user:\n",
        "Who is the prime minister?\n",
        "```\n",
        "```\n",
        "better_user:\n",
        "Who was the president of the UK in 2001?\n",
        "```\n",
        "or\n",
        "```\n",
        "worse_user:\n",
        "Summarize this document.\n",
        "```\n",
        "```\n",
        "better_user:\n",
        "Summarize '''{meeting_minutes.docx}''' in a single paragraph. Then write a markdown list of the speakers and each of their key points.\n",
        "```\n",
        "*6.4.1 Specify producer and audience, place of publication**\n",
        "- Give the model a role and a context.\n",
        "- Tell the model who its audience is. Be specific about the particular needs of this audience.\n",
        " - Tell the model where the output will appear and mention some of the style standards.\n",
        " - Specify what language level you want (easy, academic), the register or register adjustments you want (formal, informal), and specific linguistic features (e.g., metaphor, use of terminology).\n",
        "```\n",
        "user:\n",
        "Role and Context:\n",
        "Imagine you are a senior translator at a global language services company. You are tasked with creating a style guide for translators working on the localization of a government website focused on public health information.\n",
        "\n",
        "Audience:\n",
        "The primary audience for this style guide is professional translators who specialize in translating public sector content, particularly those with experience in translating government documents and websites. These translators are familiar with the principles of localization and the challenges of adapting content for diverse linguistic and cultural audiences.\n",
        "\n",
        "Place of Publication:\n",
        "The style guide will be published internally on the company’s translator portal, which is a resource hub for all translation projects. The portal follows a formal and instructional tone, with clear and precise guidelines to ensure consistency across all translation projects.\n",
        "\n",
        "Language Level and Register:\n",
        "The language level should be professional and precise, appropriate for experienced translators. The register should be formal but accessible, with a focus on clarity and practicality. The guide should include specific instructions on tone, formality, and terminology usage appropriate for public health information.\n",
        "\n",
        "Specific Linguistic Features:\n",
        "The style guide should emphasize the importance of maintaining a neutral and clear tone in translations, avoiding idiomatic expressions or culturally specific references that may not be understood universally. It should provide guidelines on terminology usage, particularly for medical and legal terms, and should include instructions on how to handle text elements like dates, numbers, and measurements.\n",
        "```"
      ],
      "metadata": {
        "id": "CNM6z8UOXXnI"
      }
    },
    {
      "cell_type": "markdown",
      "source": [
        "**6.5 Avoid bias**\n",
        " - Add to your prompt the following phrase: “Ensure that your answer is unbiased and does not rely on stereotypes.”\n",
        " - Put more weight on the aspects of the prompt that the model might be weighting less (i.e. if the model writes for a college graduate even though you have asked it to write for a high-school student, tell it to write for a primary school student).\n",
        "- Steer the model away from its presets (e.g., making changes and additions/explanations, improving texts)\n",
        "\n",
        "\n",
        "\n",
        "```\n",
        "user:\n",
        "Correct only the grammar and vocabulary in this text. Keep the style and content the same as the original.\n",
        "\n",
        "```\n",
        "\n",
        "```\n",
        "\n",
        "user:\n",
        "Revise the paragraph below. You should only improve the grammar and vocabulary and make sure it sounds natural. You should maintain the same style, formality and language level.\n",
        "\n",
        "```"
      ],
      "metadata": {
        "id": "NoMY4wODXbgI"
      }
    },
    {
      "cell_type": "markdown",
      "source": [
        "**6.6 Tone**\n",
        "- Be assertive.  \n",
        "\n",
        "```\n",
        "user:\n",
        "Your task is...\n",
        "```\n",
        "\n",
        "```\n",
        "user:\n",
        "You MUST...\n",
        "```\n",
        "\n",
        " - Offer reward/punishment.  \n",
        "\n",
        "```\n",
        "user:\n",
        "You will be penalized...\n",
        "```\n",
        "\n",
        "```\n",
        "user:\n",
        "I’m going to tip $xxx for a better solution!\n",
        "```"
      ],
      "metadata": {
        "id": "fo3wnY45XmBZ"
      }
    },
    {
      "cell_type": "markdown",
      "source": [
        "**6.7 Write system messages** System messages can be given before a command to set any sort of desired behaviour from the model \\\n",
        "*This is typical structuring for API, but works in the browser chat prompt field too.*\n",
        "\n",
        "```\n",
        "system:\n",
        "When I ask you to translate from English to German, always make the German version more formal and use only Swiss Standard spelling as can be seen in this website delimited by triple quotes. '''admin.ch'''. The text that I want you to translate will always be delimited by triple quotes. Generate the text as a downloadable markdown document called 'translation.md'. Format the text appropriately for a formal document as can be seen on '''admin.ch'''.\n",
        "\n",
        "user:\n",
        "\"Translate '''{text}''' from English to German.\"\n",
        "```\n",
        "\n",
        "\n",
        "<p style=\"page-break-before: always;\"></p>"
      ],
      "metadata": {
        "id": "x46KYS_JXTIr"
      }
    },
    {
      "cell_type": "markdown",
      "source": [
        "###Activity 6:\n",
        "a. **Try it out!** Assign each member of your group two of the tactics (e.g. 6.1, 6.2. everyone should have different tactics.)\n",
        "- Think of a task from your work or private life that you might want an AI model to perform.\n",
        "- Write a prompt using the tactics in order to achieve this task.\n",
        "\n",
        "b. Describe your assigned tactics to your group and discuss your experience with your group. What task did you apply it to? Why did you choose this task for this tactic? Did you encounter any difficulties?"
      ],
      "metadata": {
        "id": "gFFaqiFwi38b"
      }
    },
    {
      "cell_type": "markdown",
      "source": [
        "## Prompting guides\n",
        "\n",
        "- Brex's [Prompt Engineering Guide:](https://github.com/brexhq/prompt-engineering) Brex's introduction to language models and prompt engineering.\n",
        "- [Digital Uni Hohenheim]( https://digital.uni-hohenheim.de/fileadmin/einrichtungen/digital/Von_Null_auf_ChatGPT_-_Anleitung.pdf)\n",
        "- [learnprompting.org](https://learnprompting.org/): An introductory course to prompt engineering.\n",
        "- [Lil'Log Prompt Engineering](https://lilianweng.github.io/posts/2023-03-15-prompt-engineering/): An OpenAI researcher's review of the prompt engineering literature (as of March 2023).\n",
        "- [OpenAI prompt examples page](https://platform.openai.com/examples).\n",
        "- Official [OpenAI prompt engineering guide](https://platform.openai.com/docs/guides/prompt-engineering).\n",
        "- [OpenAI Cookbook: Techniques to improve reliability](https://cookbook.openai.com/articles/techniques_to_improve_reliability): A slightly dated (Sep 2022) review of techniques for prompting language models.\n",
        "- [promptingguide.ai](https://www.promptingguide.ai/): A prompt engineering guide that demonstrates many techniques.\n",
        "- Xavi Amatriain's [Prompt Engineering 101](https://amatriain.net/blog/PromptEngineering) Introduction to Prompt Engineering and [202 Advanced Prompt Engineering](https://amatriain.net/blog/prompt201): A basic but opinionated introduction to prompt engineering and a follow up collection with many advanced methods starting with CoT.\n",
        "\n"
      ],
      "metadata": {
        "id": "vN5fzFZzYPNA"
      }
    },
    {
      "cell_type": "markdown",
      "source": [
        "## References\n",
        "<!-- CSS block to style the bibliography -->\n",
        "<style>\n",
        "  .bibliography {\n",
        "      list-style-type: none; /* Remove bullets */\n",
        "      padding-left: 0; /* Remove default padding */\n",
        "  }\n",
        "\n",
        "  .bibliography li {\n",
        "      margin-bottom: 1em; /* Add space between entries */\n",
        "  }\n",
        "\n",
        "  .bibliography li::marker {\n",
        "      content: none; /* Ensure no bullets are displayed */\n",
        "  }\n",
        "\n",
        "  .bibliography p {\n",
        "      margin: 0; /* Remove margin around paragraphs */\n",
        "      text-indent: -1.5em; /* Create the hanging indent */\n",
        "      padding-left: 1.5em; /* Indent first line */\n",
        "  }\n",
        "</style>\n",
        "\n",
        "<!-- Bibliography entries using HTML list elements -->\n",
        "<ul class=\"bibliography\">\n",
        "  <li>\n",
        "    <p>Alammar, J. (n.d.). The illustrated GPT-2 (Visualizing transformer language models). Retrieved July 5, 2024, from https://jalammar.github.io/illustrated-gpt2/</p>\n",
        "  </li>\n",
        "  <li>\n",
        "    <p>Alammar, J. (n.d.). The illustrated Word2vec. Retrieved July 5, 2024, from https://jalammar.github.io/illustrated-word2vec/</p>\n",
        "  </li>\n",
        "  <li>\n",
        "    <p>Bang, Y., Cahyawijaya, S., Lee, N., Dai, W., Su, D., Wilie, B., Lovenia, H., et al. (2023, November 28). A multitask, multilingual, multimodal evaluation of ChatGPT on reasoning, hallucination, and interactivity. arXiv. http://arxiv.org/abs/2302.04023</p>\n",
        "  </li>\n",
        "  <li>\n",
        "    <p>Benites, F., Delorme Benites, A., & Anson, C. M. (2023). Automated text generation and summarization for academic writing. In O. Kruse, C. Rapp, C. M. Anson, K. Benetos, E. Cotos, A. Devitt, & A. Shibani (Eds.), <i>Digital writing technologies in higher education</i> (pp. 279–301). Cham: Springer International Publishing. https://doi.org/10.1007/978-3-031-36033-6_18</p>\n",
        "  </li>\n",
        "  <li>\n",
        "    <p>Brown, T. B., Mann, B., Ryder, N., Subbiah, M., Kaplan, J., Dhariwal, P., Neelakantan, A., et al. (2020, July 22). Language models are few-shot learners. arXiv. http://arxiv.org/abs/2005.14165</p>\n",
        "  </li>\n",
        "  <li>\n",
        "    <p>Bsharat, S. M., Myrzakhan, A., & Shen, Z. (2024, January 18). Principled instructions are all you need for questioning LLaMA-1/2, GPT-3.5/4. arXiv. http://arxiv.org/abs/2312.16171</p>\n",
        "  </li>\n",
        "  <li>\n",
        "    <p>Cardon, P., Fleischmann, C., Aritz, J., Logemann, M., & Heidewald, J. (2023, September 1). The challenges and opportunities of AI-assisted writing: Developing AI literacy for the AI age. <i>Business and Professional Communication Quarterly, 86</i>(3), 257–295. https://doi.org/10.1177/23294906231176517</p>\n",
        "  </li>\n",
        "  <li>\n",
        "    <p>Castilho, S., Mallon, C., Meister, R., & Yue, S. (n.d.). Do online machine translation systems care for context? What about a GPT model?</p>\n",
        "  </li>\n",
        "  <li>\n",
        "    <p>ChatGPT vs. machine translation tools. (n.d.). Retrieved July 5, 2024, from https://veracontent.com/mix/machine-translation-tools/</p>\n",
        "  </li>\n",
        "  <li>\n",
        "    <p>ChatGPT vs translation services: A comparative study. (n.d.). Retrieved July 5, 2024, from https://www.weglot.com/blog/chatgpt-translation</p>\n",
        "  </li>\n",
        "  <li>\n",
        "    <p>Gao, Y., Wang, R., & Hou, F. (2023, April 21). How to design translation prompts for ChatGPT: An empirical study. arXiv. http://arxiv.org/abs/2304.02182</p>\n",
        "  </li>\n",
        "  <li>\n",
        "    <p>Geppert, L. (2023, August 24). AI translation vs. machine translation | Mt-g medical translation. mt-g | Your medical translation experts. https://www.mt-g.com/en/blog/ai-translation-vs-machine-translation</p>\n",
        "  </li>\n",
        "  <li>\n",
        "    <p>Gregorio, I. de. (n.d.). Google has finally dethroned ChatGPT.</p>\n",
        "  </li>\n",
        "  <li>\n",
        "    <p>Hendy, A., Abdelrehim, M., Sharaf, A., Raunak, V., Gabr, M., Matsushita, H., Kim, Y. J., Afify, M., & Awadalla, H. H. (2023, February 17). How good are GPT models at machine translation? A comprehensive evaluation. arXiv. http://arxiv.org/abs/2302.09210</p>\n",
        "  </li>\n",
        "  <li>\n",
        "    <p>Implication of ChatGPT translation performance for business. (n.d.). Retrieved July 5, 2024, from https://www.lionbridge.com/blog/translation-localization/chatgpts-translation-performance-and-what-it-tells-us-about-the-future-of-localization/</p>\n",
        "  </li>\n",
        "  <li>\n",
        "    <p>Jiao, W., Wang, W., Huang, J., Wang, X., Shi, S., & Tu, Z. (2023, November 2). Is ChatGPT a good translator? Yes with GPT-4 as the engine. arXiv. http://arxiv.org/abs/2301.08745</p>\n",
        "  </li>\n",
        "  <li>\n",
        "    <p>Kenny, D., & Hansen, D. (n.d.). Neural machine translation, large language models and literary translation: The story so far.</p>\n",
        "  </li>\n",
        "  <li>\n",
        "    <p>Peng, K., Ding, L., Zhong, Q., Shen, L., Liu, X., Zhang, M., Ouyang, Y., & Tao, D. (2023). Towards making the most of ChatGPT for machine translation. https://doi.org/10.13140/RG.2.2.24416.97283</p>\n",
        "  </li>\n",
        "  <li>\n",
        "    <p>Lee, T. K. (2023, August 1). Artificial intelligence and posthumanist translation: ChatGPT versus the translator. <i>Applied Linguistics Review, 0</i>(0). https://doi.org/10.1515/applirev-2023-0122</p>\n",
        "  </li>\n",
        "  <li>\n",
        "    <p>Lyu, C., Du, Z., Xu, J., Duan, Y., Wu, M., Lynn, T., Aji, A. F., Wong, D. F., Liu, S., & Wang, L. (2024, April 1). A paradigm shift: The future of machine translation lies with large language models. arXiv. http://arxiv.org/abs/2305.01181</p>\n",
        "  </li>\n",
        "  <li>\n",
        "    <p>Machine translation (MT) vs generative AI for translation: Pros and cons - Lokalise blog. (n.d.). Retrieved July 5, 2024, from https://lokalise.com/blog/machine-translation-vs-ai-for-translation/</p>\n",
        "  </li>\n",
        "  <li>\n",
        "    <p>OpenAI platform. (n.d.). Retrieved July 5, 2024, from https://platform.openai.com/</p>\n",
        "  </li>\n",
        "  <li>\n",
        "    <p>Should we fear the rise of AI editing? | Blog | PerfectIt. (n.d.). Retrieved July 5, 2024, from https://www.perfectit.com/blog/should-we-fear-the-rise-of-ai-editing?utm_source=ai-sidequest.beehiiv.com&utm_medium=newsletter&utm_campaign=will-ai-mean-more-work-for-editors</p>\n",
        "  </li>\n",
        "  <li>\n",
        "    <p>Siu, S. C. (2023). Revolutionizing translation with AI: Unravelling neural machine translation and generative pre-trained large language models. <i>SSRN Electronic Journal</i>. https://doi.org/10.2139/ssrn.4499768</p>\n",
        "  </li>\n",
        "  <li>\n",
        "    <p>Son, J., & Kim, B. (2023, October 19). Translation performance from the user’s perspective of large language models and neural machine translation systems. <i>Information, 14</i>(10), 574. https://doi.org/10.3390/info14100574</p>\n",
        "  </li>\n",
        "  <li>\n",
        "    <p>Taylor, J. (2023, October 20). Instagram apologises for adding “terrorist” to some Palestinian user profiles. <i>The Guardian</i>. https://www.theguardian.com/technology/2023/oct/20/instagram-palestinian-user-profile-bios-terrorist-added-translation-meta-apology</p>\n",
        "  </li>\n",
        "  <li>\n",
        "    <p>The illustrated transformer – Jay Alammar – Visualizing machine learning one concept at a time. (n.d.). Retrieved July 5, 2024, from https://jalammar.github.io/illustrated-transformer/</p>\n",
        "  </li>\n",
        "  <li>\n",
        "    <p>Urzhumov, I. (2023, June 20). Using ChatGPT in translations. Medium. https://medium.com/@ilya.urzhumov/using-chatgpt-in-translations-b0325e58d545</p>\n",
        "  </li>\n",
        "  <li>\n",
        "    <p>Vaswani, A., Shazeer, N., Parmar, N., Uszkoreit, J., Jones, L., Gomez, A. N., Kaiser, L., & Polosukhin, I. (2023, August 1). Attention is all you need. arXiv. http://arxiv.org/abs/1706.03762</p>\n",
        "  </li>\n",
        "  <li>\n",
        "    <p>Visualizing a neural machine translation model (mechanics of seq2seq models with attention) – Jay Alammar – Visualizing machine learning one concept at a time. (n.d.). Retrieved July 5, 2024, from https://jalammar.github.io/visualizing-neural-machine-translation-mechanics-of-seq2seq-models-with-attention/</p>\n",
        "  </li>\n",
        "  <li>\n",
        "    <p>Wang, L., Lyu, C., Ji, T., Zhang, Z., Yu, D., Shi, S., & Tu, Z. (2023, October 24). Document-level machine translation with large language models. arXiv. http://arxiv.org/abs/2304.02210</p>\n",
        "  </li>\n",
        "  <li>\n",
        "    <p>What are word embeddings for text? - MachineLearningMastery.com. (n.d.). Retrieved July 5, 2024, from https://machinelearningmastery.com/what-are-word-embeddings/</p>\n",
        "  </li>\n",
        "  <li>\n",
        "    <p>White, J., Fu, Q., Hays, S., Sandborn, M., Olea, C., Gilbert, H., Elnashar, A., Spencer-Smith, J., & Schmidt, D. C. (2023, February 21). A prompt pattern catalog to enhance prompt engineering with ChatGPT. arXiv. http://arxiv.org/abs/2302.11382</p>\n",
        "  </li>\n",
        "</ul>\n",
        "\n",
        "\n"
      ],
      "metadata": {
        "id": "5H1ddN5vYRqY"
      }
    },
    {
      "cell_type": "code",
      "source": [],
      "metadata": {
        "id": "6XGg_UvtYL9I"
      },
      "execution_count": null,
      "outputs": []
    }
  ]
}